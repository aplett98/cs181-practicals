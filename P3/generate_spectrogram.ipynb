{
  "nbformat": 4,
  "nbformat_minor": 0,
  "metadata": {
    "colab": {
      "name": "generate_spectrogram.ipynb",
      "version": "0.3.2",
      "provenance": [],
      "collapsed_sections": []
    },
    "kernelspec": {
      "name": "python3",
      "display_name": "Python 3"
    }
  },
  "cells": [
    {
      "metadata": {
        "id": "SfIETFsosAx2",
        "colab_type": "code",
        "colab": {}
      },
      "cell_type": "code",
      "source": [
        "%matplotlib inline\n",
        "import re\n",
        "import numpy as np\n",
        "import pandas as pd\n",
        "import string\n",
        "import matplotlib.pyplot as plt\n",
        "import librosa\n",
        "import librosa.display\n",
        "import IPython.display as ipd"
      ],
      "execution_count": 0,
      "outputs": []
    },
    {
      "metadata": {
        "id": "NUum-kWLsAye",
        "colab_type": "code",
        "colab": {}
      },
      "cell_type": "code",
      "source": [
        "### ignore warnings caused by librosa \n",
        "import warnings\n",
        "warnings.filterwarnings(\"ignore\")"
      ],
      "execution_count": 0,
      "outputs": []
    },
    {
      "metadata": {
        "id": "s2wEMuvgsAyi",
        "colab_type": "code",
        "colab": {}
      },
      "cell_type": "code",
      "source": [
        "SAMPLE_RATE = 22050"
      ],
      "execution_count": 0,
      "outputs": []
    },
    {
      "metadata": {
        "id": "2eQlMf-jsAyn",
        "colab_type": "code",
        "colab": {}
      },
      "cell_type": "code",
      "source": [
        "T = 4.0    # seconds\n",
        "t = np.linspace(0, T, int(T*SAMPLE_RATE), endpoint=False) # time variable\n",
        "freq = 440\n",
        "signal = np.sin(2*np.pi*freq*t)"
      ],
      "execution_count": 0,
      "outputs": []
    },
    {
      "metadata": {
        "collapsed": true,
        "id": "xQ_uH51psAys",
        "colab_type": "text"
      },
      "cell_type": "markdown",
      "source": [
        "# Creating spectrograms\n",
        "Spectrograms provide a 2D feature space to analyze signals in the joint time-frequency domain.\n",
        "\n",
        "This code generates the spectrogram files for use with the CNN example. It makes files for non-noised data!"
      ]
    },
    {
      "metadata": {
        "id": "J19SCY4ksAyu",
        "colab_type": "code",
        "colab": {}
      },
      "cell_type": "code",
      "source": [
        "# Just some re-shaping and dimension finding\n",
        "N = 1\n",
        "print(\"N:\",N)\n",
        "X_train = signal[np.newaxis,:]\n",
        "print(\"Train shape\",train.shape)\n",
        "N_train = X_train.shape[0]\n",
        "NUM_SAMPLES = X_train.shape[1]-1"
      ],
      "execution_count": 0,
      "outputs": []
    },
    {
      "metadata": {
        "id": "5InmJXw5sAy0",
        "colab_type": "code",
        "colab": {}
      },
      "cell_type": "code",
      "source": [
        "# JUST SOME FOURIER TRANSFORM PARAMETERS\n",
        "BINS_OCTAVE = 12*2\n",
        "N_OCTAVES = 7\n",
        "NUM_BINS = BINS_OCTAVE * N_OCTAVES"
      ],
      "execution_count": 0,
      "outputs": []
    },
    {
      "metadata": {
        "id": "sfFPfWwtsAy4",
        "colab_type": "code",
        "colab": {}
      },
      "cell_type": "code",
      "source": [
        "# Given a wav time series, makes a mel spectrogram\n",
        "# which is a short-time fourier transform with\n",
        "# frequencies on the mel (log) scale.\n",
        "def mel_spec(y):\n",
        "    Q = librosa.cqt(y=y, sr=SAMPLE_RATE, bins_per_octave=BINS_OCTAVE,n_bins=NUM_BINS)\n",
        "    Q_db = librosa.amplitude_to_db(Q,ref=np.max)\n",
        "    return Q_db"
      ],
      "execution_count": 0,
      "outputs": []
    },
    {
      "metadata": {
        "id": "EsgordknsAy8",
        "colab_type": "code",
        "colab": {}
      },
      "cell_type": "code",
      "source": [
        "# This means that the spectrograms are 168 rows (frequencies)\n",
        "# By 173 columns (time frames)\n",
        "song = X_train[0]\n",
        "test_spec = mel_spec(song)\n",
        "print(test_spec.shape)\n",
        "FEATS = test_spec.shape[0]\n",
        "FRAMES = test_spec.shape[1]"
      ],
      "execution_count": 0,
      "outputs": []
    },
    {
      "metadata": {
        "id": "Lw54zBtCsAy_",
        "colab_type": "code",
        "colab": {}
      },
      "cell_type": "code",
      "source": [
        "tmp_train = np.zeros((N_train,FEATS,FRAMES))\n",
        "for i in range(N_train):\n",
        "    tmp_train[i,:,:] = mel_spec(X_train[i])\n",
        "#np.save('Data/xtrain_spec.npy', tmp_train)"
      ],
      "execution_count": 0,
      "outputs": []
    },
    {
      "metadata": {
        "id": "Gttb7hR0sAzD",
        "colab_type": "code",
        "colab": {}
      },
      "cell_type": "code",
      "source": [
        "librosa.display.specshow(tmp_train[0], y_axis='hz')"
      ],
      "execution_count": 0,
      "outputs": []
    }
  ]
}