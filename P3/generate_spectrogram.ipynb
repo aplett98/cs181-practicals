{
 "cells": [
  {
   "cell_type": "code",
   "execution_count": 30,
   "metadata": {
    "colab": {},
    "colab_type": "code",
    "id": "SfIETFsosAx2"
   },
   "outputs": [],
   "source": [
    "%matplotlib inline\n",
    "import re\n",
    "import numpy as np\n",
    "import pandas as pd\n",
    "import string\n",
    "import matplotlib.pyplot as plt\n",
    "import librosa\n",
    "import librosa.display\n",
    "import IPython.display as ipd"
   ]
  },
  {
   "cell_type": "code",
   "execution_count": 31,
   "metadata": {
    "colab": {},
    "colab_type": "code",
    "id": "NUum-kWLsAye"
   },
   "outputs": [],
   "source": [
    "### ignore warnings caused by librosa \n",
    "import warnings\n",
    "warnings.filterwarnings(\"ignore\")"
   ]
  },
  {
   "cell_type": "code",
   "execution_count": 32,
   "metadata": {
    "colab": {},
    "colab_type": "code",
    "id": "s2wEMuvgsAyi"
   },
   "outputs": [],
   "source": [
    "SAMPLE_RATE = 44100"
   ]
  },
  {
   "cell_type": "code",
   "execution_count": 33,
   "metadata": {
    "colab": {},
    "colab_type": "code",
    "id": "2eQlMf-jsAyn"
   },
   "outputs": [],
   "source": [
    "T = 4.0    # seconds\n",
    "t = np.linspace(0, T, int(T*SAMPLE_RATE), endpoint=False) # time variable\n",
    "freq = 100\n",
    "signal = np.sin(2*np.pi*freq*t)"
   ]
  },
  {
   "cell_type": "markdown",
   "metadata": {
    "colab_type": "text",
    "collapsed": true,
    "id": "xQ_uH51psAys"
   },
   "source": [
    "# Creating spectrograms\n",
    "Spectrograms provide a 2D feature space to analyze signals in the joint time-frequency domain.\n",
    "\n",
    "This code generates the spectrogram files for use with the CNN example. It makes files for non-noised data!"
   ]
  },
  {
   "cell_type": "code",
   "execution_count": 34,
   "metadata": {
    "colab": {},
    "colab_type": "code",
    "id": "J19SCY4ksAyu"
   },
   "outputs": [
    {
     "name": "stdout",
     "output_type": "stream",
     "text": [
      "N: 1\n",
      "Train shape (1, 176400)\n"
     ]
    }
   ],
   "source": [
    "# Just some re-shaping and dimension finding\n",
    "N = 1\n",
    "print(\"N:\",N)\n",
    "X_train = signal[np.newaxis,:]\n",
    "print(\"Train shape\",X_train.shape)\n",
    "N_train = X_train.shape[0]\n",
    "NUM_SAMPLES = X_train.shape[1]-1"
   ]
  },
  {
   "cell_type": "code",
   "execution_count": 35,
   "metadata": {
    "colab": {},
    "colab_type": "code",
    "id": "5InmJXw5sAy0"
   },
   "outputs": [],
   "source": [
    "# JUST SOME FOURIER TRANSFORM PARAMETERS\n",
    "BINS_OCTAVE = 12*2\n",
    "N_OCTAVES = 7\n",
    "NUM_BINS = BINS_OCTAVE * N_OCTAVES"
   ]
  },
  {
   "cell_type": "code",
   "execution_count": 36,
   "metadata": {
    "colab": {},
    "colab_type": "code",
    "id": "sfFPfWwtsAy4"
   },
   "outputs": [],
   "source": [
    "# Given a wav time series, makes a mel spectrogram\n",
    "# which is a short-time fourier transform with\n",
    "# frequencies on the mel (log) scale.\n",
    "def mel_spec(y):\n",
    "    Q = librosa.cqt(y=y, sr=SAMPLE_RATE, bins_per_octave=BINS_OCTAVE,n_bins=NUM_BINS)\n",
    "    Q_db = librosa.amplitude_to_db(Q,ref=np.max)\n",
    "    return Q_db"
   ]
  },
  {
   "cell_type": "code",
   "execution_count": 37,
   "metadata": {
    "colab": {},
    "colab_type": "code",
    "id": "EsgordknsAy8"
   },
   "outputs": [
    {
     "name": "stdout",
     "output_type": "stream",
     "text": [
      "(168, 345)\n"
     ]
    }
   ],
   "source": [
    "# This means that the spectrograms are 168 rows (frequencies)\n",
    "# By 173 columns (time frames)\n",
    "song = X_train[0]\n",
    "test_spec = mel_spec(song)\n",
    "print(test_spec.shape)\n",
    "FEATS = test_spec.shape[0]\n",
    "FRAMES = test_spec.shape[1]"
   ]
  },
  {
   "cell_type": "code",
   "execution_count": 38,
   "metadata": {
    "colab": {},
    "colab_type": "code",
    "id": "Lw54zBtCsAy_"
   },
   "outputs": [],
   "source": [
    "tmp_train = np.zeros((N_train,FEATS,FRAMES))\n",
    "for i in range(N_train):\n",
    "    tmp_train[i,:,:] = mel_spec(X_train[i])\n",
    "#np.save('Data/xtrain_spec.npy', tmp_train)"
   ]
  },
  {
   "cell_type": "code",
   "execution_count": 39,
   "metadata": {
    "colab": {},
    "colab_type": "code",
    "id": "Gttb7hR0sAzD"
   },
   "outputs": [
    {
     "data": {
      "text/plain": [
       "<matplotlib.axes._subplots.AxesSubplot at 0x1c1a843d30>"
      ]
     },
     "execution_count": 39,
     "metadata": {},
     "output_type": "execute_result"
    },
    {
     "data": {
      "image/png": "[encoded data removed]",
      "text/plain": [
       "<Figure size 432x288 with 1 Axes>"
      ]
     },
     "metadata": {
      "needs_background": "light"
     },
     "output_type": "display_data"
    }
   ],
   "source": [
    "librosa.display.specshow(tmp_train[0], y_axis='hz')"
   ]
  },
  {
   "cell_type": "code",
   "execution_count": null,
   "metadata": {},
   "outputs": [],
   "source": []
  }
 ],
 "metadata": {
  "colab": {
   "collapsed_sections": [],
   "name": "generate_spectrogram.ipynb",
   "provenance": [],
   "version": "0.3.2"
  },
  "kernelspec": {
   "display_name": "Python 3",
   "language": "python",
   "name": "python3"
  },
  "language_info": {
   "codemirror_mode": {
    "name": "ipython",
    "version": 3
   },
   "file_extension": ".py",
   "mimetype": "text/x-python",
   "name": "python",
   "nbconvert_exporter": "python",
   "pygments_lexer": "ipython3",
   "version": "3.7.1"
  }
 },
 "nbformat": 4,
 "nbformat_minor": 1
}
