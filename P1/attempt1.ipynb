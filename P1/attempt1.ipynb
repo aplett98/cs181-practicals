{
  "nbformat": 4,
  "nbformat_minor": 0,
  "metadata": {
    "colab": {
      "name": "attempt1.ipynb",
      "version": "0.3.2",
      "provenance": []
    },
    "kernelspec": {
      "name": "python3",
      "display_name": "Python 3"
    },
    "accelerator": "GPU"
  },
  "cells": [
    {
      "metadata": {
        "id": "ywjOgyez8KKM",
        "colab_type": "code",
        "colab": {}
      },
      "cell_type": "code",
      "source": [
        "# Import libraries\n",
        "import numpy as np\n",
        "import pandas as pd\n",
        "from sklearn.ensemble import RandomForestRegressor\n",
        "from sklearn.linear_model import LinearRegression as Lin_Reg\n",
        "from sklearn.metrics import mean_squared_error\n",
        "from sklearn.model_selection import cross_val_predict, GridSearchCV, cross_val_score\n",
        "from sklearn.preprocessing import MinMaxScaler\n",
        "import matplotlib\n",
        "import matplotlib.pyplot as plt\n",
        "import matplotlib.cm as cmx\n",
        "import matplotlib.colors as colors\n",
        "import scipy as sp\n",
        "%matplotlib inline\n",
        "\n",
        "from collections import Counter"
      ],
      "execution_count": 0,
      "outputs": []
    },
    {
      "metadata": {
        "id": "oyJZzwcw8KKV",
        "colab_type": "code",
        "colab": {}
      },
      "cell_type": "code",
      "source": [
        "# Load training and test sets (assumes you have these in current working directory)\n",
        "train = pd.read_csv(\"train.csv\")\n",
        "test = pd.read_csv(\"test.csv\")"
      ],
      "execution_count": 0,
      "outputs": []
    },
    {
      "metadata": {
        "id": "4SAzeFQ08KKa",
        "colab_type": "code",
        "outputId": "63003fe5-f288-447a-a1bb-1677598aedde",
        "colab": {
          "base_uri": "https://localhost:8080/",
          "height": 250
        }
      },
      "cell_type": "code",
      "source": [
        "# Inspect training set\n",
        "train.head()"
      ],
      "execution_count": 9,
      "outputs": [
        {
          "output_type": "execute_result",
          "data": {
            "text/html": [
              "<div>\n",
              "<style scoped>\n",
              "    .dataframe tbody tr th:only-of-type {\n",
              "        vertical-align: middle;\n",
              "    }\n",
              "\n",
              "    .dataframe tbody tr th {\n",
              "        vertical-align: top;\n",
              "    }\n",
              "\n",
              "    .dataframe thead th {\n",
              "        text-align: right;\n",
              "    }\n",
              "</style>\n",
              "<table border=\"1\" class=\"dataframe\">\n",
              "  <thead>\n",
              "    <tr style=\"text-align: right;\">\n",
              "      <th></th>\n",
              "      <th>Id</th>\n",
              "      <th>Feat 1</th>\n",
              "      <th>Feat 2</th>\n",
              "      <th>Feat 3</th>\n",
              "      <th>Feat 4</th>\n",
              "      <th>Feat 5</th>\n",
              "      <th>Feat 6</th>\n",
              "      <th>Feat 7</th>\n",
              "      <th>Feat 8</th>\n",
              "      <th>Feat 9</th>\n",
              "      <th>...</th>\n",
              "      <th>Feat 243</th>\n",
              "      <th>Feat 244</th>\n",
              "      <th>Feat 245</th>\n",
              "      <th>Feat 246</th>\n",
              "      <th>Feat 247</th>\n",
              "      <th>Feat 248</th>\n",
              "      <th>Feat 249</th>\n",
              "      <th>Feat 250</th>\n",
              "      <th>Feat 251</th>\n",
              "      <th>Target</th>\n",
              "    </tr>\n",
              "  </thead>\n",
              "  <tbody>\n",
              "    <tr>\n",
              "      <th>0</th>\n",
              "      <td>1</td>\n",
              "      <td>0.998952</td>\n",
              "      <td>0.174118</td>\n",
              "      <td>0.999211</td>\n",
              "      <td>0.996460</td>\n",
              "      <td>0.133333</td>\n",
              "      <td>0.057143</td>\n",
              "      <td>0.000</td>\n",
              "      <td>0.0</td>\n",
              "      <td>0.0</td>\n",
              "      <td>...</td>\n",
              "      <td>0.0</td>\n",
              "      <td>0.0</td>\n",
              "      <td>0</td>\n",
              "      <td>0.612863</td>\n",
              "      <td>0.026812</td>\n",
              "      <td>0.522</td>\n",
              "      <td>0.217791</td>\n",
              "      <td>0.233629</td>\n",
              "      <td>0.540962</td>\n",
              "      <td>0.901355</td>\n",
              "    </tr>\n",
              "    <tr>\n",
              "      <th>1</th>\n",
              "      <td>2</td>\n",
              "      <td>0.999445</td>\n",
              "      <td>0.174118</td>\n",
              "      <td>0.999329</td>\n",
              "      <td>0.997079</td>\n",
              "      <td>0.133333</td>\n",
              "      <td>0.000000</td>\n",
              "      <td>0.000</td>\n",
              "      <td>0.0</td>\n",
              "      <td>0.0</td>\n",
              "      <td>...</td>\n",
              "      <td>0.0</td>\n",
              "      <td>0.0</td>\n",
              "      <td>0</td>\n",
              "      <td>0.688941</td>\n",
              "      <td>0.075030</td>\n",
              "      <td>0.704</td>\n",
              "      <td>0.246119</td>\n",
              "      <td>0.143860</td>\n",
              "      <td>0.525384</td>\n",
              "      <td>0.913550</td>\n",
              "    </tr>\n",
              "    <tr>\n",
              "      <th>2</th>\n",
              "      <td>3</td>\n",
              "      <td>0.998759</td>\n",
              "      <td>0.000000</td>\n",
              "      <td>0.997260</td>\n",
              "      <td>0.996325</td>\n",
              "      <td>0.000000</td>\n",
              "      <td>0.085714</td>\n",
              "      <td>0.125</td>\n",
              "      <td>0.0</td>\n",
              "      <td>0.0</td>\n",
              "      <td>...</td>\n",
              "      <td>0.0</td>\n",
              "      <td>0.0</td>\n",
              "      <td>0</td>\n",
              "      <td>0.156863</td>\n",
              "      <td>0.436279</td>\n",
              "      <td>0.000</td>\n",
              "      <td>0.119091</td>\n",
              "      <td>0.162869</td>\n",
              "      <td>0.361124</td>\n",
              "      <td>0.884824</td>\n",
              "    </tr>\n",
              "    <tr>\n",
              "      <th>3</th>\n",
              "      <td>4</td>\n",
              "      <td>0.999619</td>\n",
              "      <td>0.174118</td>\n",
              "      <td>0.997969</td>\n",
              "      <td>0.997321</td>\n",
              "      <td>0.266667</td>\n",
              "      <td>0.057143</td>\n",
              "      <td>0.125</td>\n",
              "      <td>0.0</td>\n",
              "      <td>0.0</td>\n",
              "      <td>...</td>\n",
              "      <td>0.0</td>\n",
              "      <td>0.0</td>\n",
              "      <td>0</td>\n",
              "      <td>0.709647</td>\n",
              "      <td>0.075472</td>\n",
              "      <td>0.513</td>\n",
              "      <td>0.392743</td>\n",
              "      <td>0.377302</td>\n",
              "      <td>0.613776</td>\n",
              "      <td>0.977236</td>\n",
              "    </tr>\n",
              "    <tr>\n",
              "      <th>4</th>\n",
              "      <td>5</td>\n",
              "      <td>0.998278</td>\n",
              "      <td>0.174118</td>\n",
              "      <td>0.998427</td>\n",
              "      <td>0.996269</td>\n",
              "      <td>0.200000</td>\n",
              "      <td>0.000000</td>\n",
              "      <td>0.000</td>\n",
              "      <td>0.0</td>\n",
              "      <td>0.0</td>\n",
              "      <td>...</td>\n",
              "      <td>0.0</td>\n",
              "      <td>0.0</td>\n",
              "      <td>0</td>\n",
              "      <td>0.364235</td>\n",
              "      <td>0.041818</td>\n",
              "      <td>0.200</td>\n",
              "      <td>0.096297</td>\n",
              "      <td>0.166459</td>\n",
              "      <td>0.408322</td>\n",
              "      <td>0.921138</td>\n",
              "    </tr>\n",
              "  </tbody>\n",
              "</table>\n",
              "<p>5 rows × 253 columns</p>\n",
              "</div>"
            ],
            "text/plain": [
              "   Id    Feat 1    Feat 2    Feat 3    Feat 4    Feat 5    Feat 6  Feat 7  \\\n",
              "0   1  0.998952  0.174118  0.999211  0.996460  0.133333  0.057143   0.000   \n",
              "1   2  0.999445  0.174118  0.999329  0.997079  0.133333  0.000000   0.000   \n",
              "2   3  0.998759  0.000000  0.997260  0.996325  0.000000  0.085714   0.125   \n",
              "3   4  0.999619  0.174118  0.997969  0.997321  0.266667  0.057143   0.125   \n",
              "4   5  0.998278  0.174118  0.998427  0.996269  0.200000  0.000000   0.000   \n",
              "\n",
              "   Feat 8  Feat 9    ...     Feat 243  Feat 244  Feat 245  Feat 246  Feat 247  \\\n",
              "0     0.0     0.0    ...          0.0       0.0         0  0.612863  0.026812   \n",
              "1     0.0     0.0    ...          0.0       0.0         0  0.688941  0.075030   \n",
              "2     0.0     0.0    ...          0.0       0.0         0  0.156863  0.436279   \n",
              "3     0.0     0.0    ...          0.0       0.0         0  0.709647  0.075472   \n",
              "4     0.0     0.0    ...          0.0       0.0         0  0.364235  0.041818   \n",
              "\n",
              "   Feat 248  Feat 249  Feat 250  Feat 251    Target  \n",
              "0     0.522  0.217791  0.233629  0.540962  0.901355  \n",
              "1     0.704  0.246119  0.143860  0.525384  0.913550  \n",
              "2     0.000  0.119091  0.162869  0.361124  0.884824  \n",
              "3     0.513  0.392743  0.377302  0.613776  0.977236  \n",
              "4     0.200  0.096297  0.166459  0.408322  0.921138  \n",
              "\n",
              "[5 rows x 253 columns]"
            ]
          },
          "metadata": {
            "tags": []
          },
          "execution_count": 9
        }
      ]
    },
    {
      "metadata": {
        "id": "EopyHuJM8KKg",
        "colab_type": "code",
        "outputId": "fc6310f6-54de-42ec-db3e-6d4832229f62",
        "colab": {
          "base_uri": "https://localhost:8080/",
          "height": 250
        }
      },
      "cell_type": "code",
      "source": [
        "# Inspect test set\n",
        "test.head()"
      ],
      "execution_count": 10,
      "outputs": [
        {
          "output_type": "execute_result",
          "data": {
            "text/html": [
              "<div>\n",
              "<style scoped>\n",
              "    .dataframe tbody tr th:only-of-type {\n",
              "        vertical-align: middle;\n",
              "    }\n",
              "\n",
              "    .dataframe tbody tr th {\n",
              "        vertical-align: top;\n",
              "    }\n",
              "\n",
              "    .dataframe thead th {\n",
              "        text-align: right;\n",
              "    }\n",
              "</style>\n",
              "<table border=\"1\" class=\"dataframe\">\n",
              "  <thead>\n",
              "    <tr style=\"text-align: right;\">\n",
              "      <th></th>\n",
              "      <th>Id</th>\n",
              "      <th>Feat 1</th>\n",
              "      <th>Feat 2</th>\n",
              "      <th>Feat 3</th>\n",
              "      <th>Feat 4</th>\n",
              "      <th>Feat 5</th>\n",
              "      <th>Feat 6</th>\n",
              "      <th>Feat 7</th>\n",
              "      <th>Feat 8</th>\n",
              "      <th>Feat 9</th>\n",
              "      <th>...</th>\n",
              "      <th>Feat 242</th>\n",
              "      <th>Feat 243</th>\n",
              "      <th>Feat 244</th>\n",
              "      <th>Feat 245</th>\n",
              "      <th>Feat 246</th>\n",
              "      <th>Feat 247</th>\n",
              "      <th>Feat 248</th>\n",
              "      <th>Feat 249</th>\n",
              "      <th>Feat 250</th>\n",
              "      <th>Feat 251</th>\n",
              "    </tr>\n",
              "  </thead>\n",
              "  <tbody>\n",
              "    <tr>\n",
              "      <th>0</th>\n",
              "      <td>1</td>\n",
              "      <td>0.999849</td>\n",
              "      <td>0.174118</td>\n",
              "      <td>0.999819</td>\n",
              "      <td>0.997841</td>\n",
              "      <td>0.133333</td>\n",
              "      <td>0.2</td>\n",
              "      <td>0.0</td>\n",
              "      <td>0.0</td>\n",
              "      <td>0.000000</td>\n",
              "      <td>...</td>\n",
              "      <td>0.0</td>\n",
              "      <td>0.0</td>\n",
              "      <td>0.0</td>\n",
              "      <td>0</td>\n",
              "      <td>0.728471</td>\n",
              "      <td>0.054397</td>\n",
              "      <td>0.649</td>\n",
              "      <td>0.416164</td>\n",
              "      <td>0.053998</td>\n",
              "      <td>0.667391</td>\n",
              "    </tr>\n",
              "    <tr>\n",
              "      <th>1</th>\n",
              "      <td>2</td>\n",
              "      <td>0.999958</td>\n",
              "      <td>0.164706</td>\n",
              "      <td>1.000000</td>\n",
              "      <td>0.996741</td>\n",
              "      <td>0.066667</td>\n",
              "      <td>0.0</td>\n",
              "      <td>0.0</td>\n",
              "      <td>0.0</td>\n",
              "      <td>0.000000</td>\n",
              "      <td>...</td>\n",
              "      <td>0.0</td>\n",
              "      <td>0.0</td>\n",
              "      <td>0.0</td>\n",
              "      <td>0</td>\n",
              "      <td>0.497255</td>\n",
              "      <td>0.037736</td>\n",
              "      <td>0.375</td>\n",
              "      <td>0.165514</td>\n",
              "      <td>0.101973</td>\n",
              "      <td>0.506650</td>\n",
              "    </tr>\n",
              "    <tr>\n",
              "      <th>2</th>\n",
              "      <td>3</td>\n",
              "      <td>0.999666</td>\n",
              "      <td>0.174118</td>\n",
              "      <td>0.999479</td>\n",
              "      <td>0.997376</td>\n",
              "      <td>0.000000</td>\n",
              "      <td>0.0</td>\n",
              "      <td>0.0</td>\n",
              "      <td>0.0</td>\n",
              "      <td>0.000000</td>\n",
              "      <td>...</td>\n",
              "      <td>0.0</td>\n",
              "      <td>0.0</td>\n",
              "      <td>0.0</td>\n",
              "      <td>0</td>\n",
              "      <td>0.688941</td>\n",
              "      <td>0.019309</td>\n",
              "      <td>1.000</td>\n",
              "      <td>0.192069</td>\n",
              "      <td>0.120700</td>\n",
              "      <td>0.498784</td>\n",
              "    </tr>\n",
              "    <tr>\n",
              "      <th>3</th>\n",
              "      <td>4</td>\n",
              "      <td>0.999735</td>\n",
              "      <td>0.174118</td>\n",
              "      <td>0.999655</td>\n",
              "      <td>0.997173</td>\n",
              "      <td>0.133333</td>\n",
              "      <td>0.0</td>\n",
              "      <td>0.0</td>\n",
              "      <td>0.0</td>\n",
              "      <td>0.363636</td>\n",
              "      <td>...</td>\n",
              "      <td>0.0</td>\n",
              "      <td>0.0</td>\n",
              "      <td>0.0</td>\n",
              "      <td>0</td>\n",
              "      <td>0.654118</td>\n",
              "      <td>0.019089</td>\n",
              "      <td>0.333</td>\n",
              "      <td>0.451252</td>\n",
              "      <td>0.164180</td>\n",
              "      <td>0.774466</td>\n",
              "    </tr>\n",
              "    <tr>\n",
              "      <th>4</th>\n",
              "      <td>5</td>\n",
              "      <td>0.999806</td>\n",
              "      <td>0.164706</td>\n",
              "      <td>0.999551</td>\n",
              "      <td>0.997234</td>\n",
              "      <td>0.000000</td>\n",
              "      <td>0.0</td>\n",
              "      <td>0.0</td>\n",
              "      <td>0.0</td>\n",
              "      <td>0.000000</td>\n",
              "      <td>...</td>\n",
              "      <td>0.0</td>\n",
              "      <td>0.0</td>\n",
              "      <td>0.0</td>\n",
              "      <td>0</td>\n",
              "      <td>0.627451</td>\n",
              "      <td>0.160433</td>\n",
              "      <td>0.882</td>\n",
              "      <td>0.147407</td>\n",
              "      <td>0.000000</td>\n",
              "      <td>0.481240</td>\n",
              "    </tr>\n",
              "  </tbody>\n",
              "</table>\n",
              "<p>5 rows × 252 columns</p>\n",
              "</div>"
            ],
            "text/plain": [
              "   Id    Feat 1    Feat 2    Feat 3    Feat 4    Feat 5  Feat 6  Feat 7  \\\n",
              "0   1  0.999849  0.174118  0.999819  0.997841  0.133333     0.2     0.0   \n",
              "1   2  0.999958  0.164706  1.000000  0.996741  0.066667     0.0     0.0   \n",
              "2   3  0.999666  0.174118  0.999479  0.997376  0.000000     0.0     0.0   \n",
              "3   4  0.999735  0.174118  0.999655  0.997173  0.133333     0.0     0.0   \n",
              "4   5  0.999806  0.164706  0.999551  0.997234  0.000000     0.0     0.0   \n",
              "\n",
              "   Feat 8    Feat 9    ...     Feat 242  Feat 243  Feat 244  Feat 245  \\\n",
              "0     0.0  0.000000    ...          0.0       0.0       0.0         0   \n",
              "1     0.0  0.000000    ...          0.0       0.0       0.0         0   \n",
              "2     0.0  0.000000    ...          0.0       0.0       0.0         0   \n",
              "3     0.0  0.363636    ...          0.0       0.0       0.0         0   \n",
              "4     0.0  0.000000    ...          0.0       0.0       0.0         0   \n",
              "\n",
              "   Feat 246  Feat 247  Feat 248  Feat 249  Feat 250  Feat 251  \n",
              "0  0.728471  0.054397     0.649  0.416164  0.053998  0.667391  \n",
              "1  0.497255  0.037736     0.375  0.165514  0.101973  0.506650  \n",
              "2  0.688941  0.019309     1.000  0.192069  0.120700  0.498784  \n",
              "3  0.654118  0.019089     0.333  0.451252  0.164180  0.774466  \n",
              "4  0.627451  0.160433     0.882  0.147407  0.000000  0.481240  \n",
              "\n",
              "[5 rows x 252 columns]"
            ]
          },
          "metadata": {
            "tags": []
          },
          "execution_count": 10
        }
      ]
    },
    {
      "metadata": {
        "id": "_2QZkbw78KKl",
        "colab_type": "code",
        "outputId": "cea51c0e-0b88-4a8c-9cf9-1dc6073e8f31",
        "colab": {
          "base_uri": "https://localhost:8080/",
          "height": 280
        }
      },
      "cell_type": "code",
      "source": [
        "# Explore distribution of target\n",
        "plt.hist(train['Target'], bins = 100)\n",
        "plt.title(\"Distribution of Dependent Variable\")\n",
        "plt.show()"
      ],
      "execution_count": 11,
      "outputs": [
        {
          "output_type": "display_data",
          "data": {
            "image/png": "[encoded data removed]",
            "text/plain": [
              "<Figure size 432x288 with 1 Axes>"
            ]
          },
          "metadata": {
            "tags": []
          }
        }
      ]
    },
    {
      "metadata": {
        "id": "227yQ1yp8KKq",
        "colab_type": "code",
        "colab": {}
      },
      "cell_type": "code",
      "source": [
        "# Split training set into X and y (removing first column containing IDs)\n",
        "X_train = train.iloc[:, 1:-1]\n",
        "y_train = train.iloc[:, -1]"
      ],
      "execution_count": 0,
      "outputs": []
    },
    {
      "metadata": {
        "id": "vPyUVdoG8KKt",
        "colab_type": "code",
        "colab": {}
      },
      "cell_type": "code",
      "source": [
        "# Define function to compute RMSE\n",
        "def scoreRMSE(predictor, X, true_y):\n",
        "    predictions = predictor.predict(X)\n",
        "    return np.sqrt(mean_squared_error(predictions, true_y))"
      ],
      "execution_count": 0,
      "outputs": []
    },
    {
      "metadata": {
        "id": "q2_UwpVM8KKv",
        "colab_type": "code",
        "colab": {}
      },
      "cell_type": "code",
      "source": [
        "# Define function to return labels of features not meeting a certain threshold\n",
        "# Threshold can be on a mean or a standard deviation.\n",
        "def get_bad_features(df, thresh, type='std'):\n",
        "    bads = []\n",
        "    if type == 'std':\n",
        "        summaries = df.std()\n",
        "    elif type == 'mean':\n",
        "        summaries = df.mean()\n",
        "    for label, summary in summaries.iteritems():\n",
        "        if summary < thresh:\n",
        "            bads += [label]\n",
        "    return bads"
      ],
      "execution_count": 0,
      "outputs": []
    },
    {
      "metadata": {
        "id": "Q8HmbfOA8KKx",
        "colab_type": "code",
        "colab": {
          "base_uri": "https://localhost:8080/",
          "height": 1224
        },
        "outputId": "b261ae1f-152a-4e4b-ab2a-9b4f5ea5cbbc"
      },
      "cell_type": "code",
      "source": [
        "# Calculate bad features\n",
        "thresh = 0.02\n",
        "bad_features = get_bad_features(X_train, thresh, type='std')\n",
        "\n",
        "print(len(bad_features),f'features that have sd below {thresh}')\n",
        "for f in bad_features:\n",
        "    print(f)"
      ],
      "execution_count": 15,
      "outputs": [
        {
          "output_type": "stream",
          "text": [
            "70 features that have sd below 0.02\n",
            "Feat 1\n",
            "Feat 3\n",
            "Feat 4\n",
            "Feat 18\n",
            "Feat 21\n",
            "Feat 22\n",
            "Feat 23\n",
            "Feat 24\n",
            "Feat 25\n",
            "Feat 26\n",
            "Feat 27\n",
            "Feat 28\n",
            "Feat 40\n",
            "Feat 41\n",
            "Feat 43\n",
            "Feat 44\n",
            "Feat 46\n",
            "Feat 48\n",
            "Feat 50\n",
            "Feat 52\n",
            "Feat 54\n",
            "Feat 67\n",
            "Feat 72\n",
            "Feat 75\n",
            "Feat 77\n",
            "Feat 80\n",
            "Feat 86\n",
            "Feat 88\n",
            "Feat 93\n",
            "Feat 94\n",
            "Feat 95\n",
            "Feat 100\n",
            "Feat 106\n",
            "Feat 107\n",
            "Feat 108\n",
            "Feat 109\n",
            "Feat 111\n",
            "Feat 112\n",
            "Feat 115\n",
            "Feat 117\n",
            "Feat 118\n",
            "Feat 122\n",
            "Feat 143\n",
            "Feat 145\n",
            "Feat 170\n",
            "Feat 187\n",
            "Feat 188\n",
            "Feat 189\n",
            "Feat 190\n",
            "Feat 202\n",
            "Feat 204\n",
            "Feat 205\n",
            "Feat 207\n",
            "Feat 217\n",
            "Feat 221\n",
            "Feat 222\n",
            "Feat 223\n",
            "Feat 225\n",
            "Feat 226\n",
            "Feat 227\n",
            "Feat 228\n",
            "Feat 229\n",
            "Feat 230\n",
            "Feat 236\n",
            "Feat 237\n",
            "Feat 238\n",
            "Feat 239\n",
            "Feat 240\n",
            "Feat 244\n",
            "Feat 245\n"
          ],
          "name": "stdout"
        }
      ]
    },
    {
      "metadata": {
        "id": "VkimtvEQ8KK1",
        "colab_type": "code",
        "outputId": "94fa11f2-58c0-42bd-894f-8826a5ff6d5b",
        "colab": {
          "base_uri": "https://localhost:8080/",
          "height": 34
        }
      },
      "cell_type": "code",
      "source": [
        "# Fit unregularized linear regression and see RMSE on training set\n",
        "linReg = Lin_Reg()\n",
        "linReg.fit(X_train, y_train)\n",
        "\n",
        "print(\"Training RMSE: \", scoreRMSE(linReg, X_train, y_train))"
      ],
      "execution_count": 16,
      "outputs": [
        {
          "output_type": "stream",
          "text": [
            "Training RMSE:  0.026353196121577986\n"
          ],
          "name": "stdout"
        }
      ]
    },
    {
      "metadata": {
        "id": "ZPTsKhGr8KK5",
        "colab_type": "code",
        "outputId": "8107bc8d-9008-47aa-bcea-b7897414a65b",
        "colab": {
          "base_uri": "https://localhost:8080/",
          "height": 270
        }
      },
      "cell_type": "code",
      "source": [
        "# Remove first column to make predictions\n",
        "X_test = test.iloc[:, 1:]\n",
        "X_test = X_test.drop(columns=bad_features)\n",
        "X_test.head()"
      ],
      "execution_count": 0,
      "outputs": [
        {
          "output_type": "execute_result",
          "data": {
            "text/html": [
              "<div>\n",
              "<style scoped>\n",
              "    .dataframe tbody tr th:only-of-type {\n",
              "        vertical-align: middle;\n",
              "    }\n",
              "\n",
              "    .dataframe tbody tr th {\n",
              "        vertical-align: top;\n",
              "    }\n",
              "\n",
              "    .dataframe thead th {\n",
              "        text-align: right;\n",
              "    }\n",
              "</style>\n",
              "<table border=\"1\" class=\"dataframe\">\n",
              "  <thead>\n",
              "    <tr style=\"text-align: right;\">\n",
              "      <th></th>\n",
              "      <th>Feat 1</th>\n",
              "      <th>Feat 2</th>\n",
              "      <th>Feat 3</th>\n",
              "      <th>Feat 4</th>\n",
              "      <th>Feat 5</th>\n",
              "      <th>Feat 6</th>\n",
              "      <th>Feat 7</th>\n",
              "      <th>Feat 8</th>\n",
              "      <th>Feat 9</th>\n",
              "      <th>Feat 10</th>\n",
              "      <th>...</th>\n",
              "      <th>Feat 235</th>\n",
              "      <th>Feat 241</th>\n",
              "      <th>Feat 242</th>\n",
              "      <th>Feat 243</th>\n",
              "      <th>Feat 246</th>\n",
              "      <th>Feat 247</th>\n",
              "      <th>Feat 248</th>\n",
              "      <th>Feat 249</th>\n",
              "      <th>Feat 250</th>\n",
              "      <th>Feat 251</th>\n",
              "    </tr>\n",
              "  </thead>\n",
              "  <tbody>\n",
              "    <tr>\n",
              "      <th>0</th>\n",
              "      <td>0.999849</td>\n",
              "      <td>0.174118</td>\n",
              "      <td>0.999819</td>\n",
              "      <td>0.997841</td>\n",
              "      <td>0.133333</td>\n",
              "      <td>0.2</td>\n",
              "      <td>0.0</td>\n",
              "      <td>0.0</td>\n",
              "      <td>0.000000</td>\n",
              "      <td>0.000000</td>\n",
              "      <td>...</td>\n",
              "      <td>0.0</td>\n",
              "      <td>0.0</td>\n",
              "      <td>0.0</td>\n",
              "      <td>0.0</td>\n",
              "      <td>0.728471</td>\n",
              "      <td>0.054397</td>\n",
              "      <td>0.649</td>\n",
              "      <td>0.416164</td>\n",
              "      <td>0.053998</td>\n",
              "      <td>0.667391</td>\n",
              "    </tr>\n",
              "    <tr>\n",
              "      <th>1</th>\n",
              "      <td>0.999958</td>\n",
              "      <td>0.164706</td>\n",
              "      <td>1.000000</td>\n",
              "      <td>0.996741</td>\n",
              "      <td>0.066667</td>\n",
              "      <td>0.0</td>\n",
              "      <td>0.0</td>\n",
              "      <td>0.0</td>\n",
              "      <td>0.000000</td>\n",
              "      <td>0.000000</td>\n",
              "      <td>...</td>\n",
              "      <td>0.0</td>\n",
              "      <td>0.0</td>\n",
              "      <td>0.0</td>\n",
              "      <td>0.0</td>\n",
              "      <td>0.497255</td>\n",
              "      <td>0.037736</td>\n",
              "      <td>0.375</td>\n",
              "      <td>0.165514</td>\n",
              "      <td>0.101973</td>\n",
              "      <td>0.506650</td>\n",
              "    </tr>\n",
              "    <tr>\n",
              "      <th>2</th>\n",
              "      <td>0.999666</td>\n",
              "      <td>0.174118</td>\n",
              "      <td>0.999479</td>\n",
              "      <td>0.997376</td>\n",
              "      <td>0.000000</td>\n",
              "      <td>0.0</td>\n",
              "      <td>0.0</td>\n",
              "      <td>0.0</td>\n",
              "      <td>0.000000</td>\n",
              "      <td>0.000000</td>\n",
              "      <td>...</td>\n",
              "      <td>0.0</td>\n",
              "      <td>0.0</td>\n",
              "      <td>0.0</td>\n",
              "      <td>0.0</td>\n",
              "      <td>0.688941</td>\n",
              "      <td>0.019309</td>\n",
              "      <td>1.000</td>\n",
              "      <td>0.192069</td>\n",
              "      <td>0.120700</td>\n",
              "      <td>0.498784</td>\n",
              "    </tr>\n",
              "    <tr>\n",
              "      <th>3</th>\n",
              "      <td>0.999735</td>\n",
              "      <td>0.174118</td>\n",
              "      <td>0.999655</td>\n",
              "      <td>0.997173</td>\n",
              "      <td>0.133333</td>\n",
              "      <td>0.0</td>\n",
              "      <td>0.0</td>\n",
              "      <td>0.0</td>\n",
              "      <td>0.363636</td>\n",
              "      <td>0.166667</td>\n",
              "      <td>...</td>\n",
              "      <td>0.0</td>\n",
              "      <td>0.0</td>\n",
              "      <td>0.0</td>\n",
              "      <td>0.0</td>\n",
              "      <td>0.654118</td>\n",
              "      <td>0.019089</td>\n",
              "      <td>0.333</td>\n",
              "      <td>0.451252</td>\n",
              "      <td>0.164180</td>\n",
              "      <td>0.774466</td>\n",
              "    </tr>\n",
              "    <tr>\n",
              "      <th>4</th>\n",
              "      <td>0.999806</td>\n",
              "      <td>0.164706</td>\n",
              "      <td>0.999551</td>\n",
              "      <td>0.997234</td>\n",
              "      <td>0.000000</td>\n",
              "      <td>0.0</td>\n",
              "      <td>0.0</td>\n",
              "      <td>0.0</td>\n",
              "      <td>0.000000</td>\n",
              "      <td>0.000000</td>\n",
              "      <td>...</td>\n",
              "      <td>0.0</td>\n",
              "      <td>0.0</td>\n",
              "      <td>0.0</td>\n",
              "      <td>0.0</td>\n",
              "      <td>0.627451</td>\n",
              "      <td>0.160433</td>\n",
              "      <td>0.882</td>\n",
              "      <td>0.147407</td>\n",
              "      <td>0.000000</td>\n",
              "      <td>0.481240</td>\n",
              "    </tr>\n",
              "  </tbody>\n",
              "</table>\n",
              "<p>5 rows × 174 columns</p>\n",
              "</div>"
            ],
            "text/plain": [
              "     Feat 1    Feat 2    Feat 3    Feat 4    Feat 5  Feat 6  Feat 7  Feat 8  \\\n",
              "0  0.999849  0.174118  0.999819  0.997841  0.133333     0.2     0.0     0.0   \n",
              "1  0.999958  0.164706  1.000000  0.996741  0.066667     0.0     0.0     0.0   \n",
              "2  0.999666  0.174118  0.999479  0.997376  0.000000     0.0     0.0     0.0   \n",
              "3  0.999735  0.174118  0.999655  0.997173  0.133333     0.0     0.0     0.0   \n",
              "4  0.999806  0.164706  0.999551  0.997234  0.000000     0.0     0.0     0.0   \n",
              "\n",
              "     Feat 9   Feat 10    ...     Feat 235  Feat 241  Feat 242  Feat 243  \\\n",
              "0  0.000000  0.000000    ...          0.0       0.0       0.0       0.0   \n",
              "1  0.000000  0.000000    ...          0.0       0.0       0.0       0.0   \n",
              "2  0.000000  0.000000    ...          0.0       0.0       0.0       0.0   \n",
              "3  0.363636  0.166667    ...          0.0       0.0       0.0       0.0   \n",
              "4  0.000000  0.000000    ...          0.0       0.0       0.0       0.0   \n",
              "\n",
              "   Feat 246  Feat 247  Feat 248  Feat 249  Feat 250  Feat 251  \n",
              "0  0.728471  0.054397     0.649  0.416164  0.053998  0.667391  \n",
              "1  0.497255  0.037736     0.375  0.165514  0.101973  0.506650  \n",
              "2  0.688941  0.019309     1.000  0.192069  0.120700  0.498784  \n",
              "3  0.654118  0.019089     0.333  0.451252  0.164180  0.774466  \n",
              "4  0.627451  0.160433     0.882  0.147407  0.000000  0.481240  \n",
              "\n",
              "[5 rows x 174 columns]"
            ]
          },
          "metadata": {
            "tags": []
          },
          "execution_count": 16
        }
      ]
    },
    {
      "metadata": {
        "id": "V7Gs7WQf8KK8",
        "colab_type": "code",
        "colab": {}
      },
      "cell_type": "code",
      "source": [
        "# Make predictions using linear regression model fitted above\n",
        "predictions = linReg.predict(X_test)"
      ],
      "execution_count": 0,
      "outputs": []
    },
    {
      "metadata": {
        "id": "NDtWTriv8KK_",
        "colab_type": "code",
        "outputId": "0a22b710-56aa-4723-a012-1b7bd4871c1c",
        "colab": {
          "base_uri": "https://localhost:8080/",
          "height": 204
        }
      },
      "cell_type": "code",
      "source": [
        "# Format predictions to be compatible with Kaggle upload\n",
        "sample_submission = pd.DataFrame(data=predictions, columns=['Predicted'])\n",
        "sample_submission.insert(0, \"Id\", range(1, 1 + X_test.shape[0]))\n",
        "sample_submission['Id'] = sample_submission['Id'].astype(str)\n",
        "sample_submission.head()"
      ],
      "execution_count": 0,
      "outputs": [
        {
          "output_type": "execute_result",
          "data": {
            "text/html": [
              "<div>\n",
              "<style scoped>\n",
              "    .dataframe tbody tr th:only-of-type {\n",
              "        vertical-align: middle;\n",
              "    }\n",
              "\n",
              "    .dataframe tbody tr th {\n",
              "        vertical-align: top;\n",
              "    }\n",
              "\n",
              "    .dataframe thead th {\n",
              "        text-align: right;\n",
              "    }\n",
              "</style>\n",
              "<table border=\"1\" class=\"dataframe\">\n",
              "  <thead>\n",
              "    <tr style=\"text-align: right;\">\n",
              "      <th></th>\n",
              "      <th>Id</th>\n",
              "      <th>Predicted</th>\n",
              "    </tr>\n",
              "  </thead>\n",
              "  <tbody>\n",
              "    <tr>\n",
              "      <th>0</th>\n",
              "      <td>1</td>\n",
              "      <td>0.935499</td>\n",
              "    </tr>\n",
              "    <tr>\n",
              "      <th>1</th>\n",
              "      <td>2</td>\n",
              "      <td>0.914760</td>\n",
              "    </tr>\n",
              "    <tr>\n",
              "      <th>2</th>\n",
              "      <td>3</td>\n",
              "      <td>0.921248</td>\n",
              "    </tr>\n",
              "    <tr>\n",
              "      <th>3</th>\n",
              "      <td>4</td>\n",
              "      <td>0.933341</td>\n",
              "    </tr>\n",
              "    <tr>\n",
              "      <th>4</th>\n",
              "      <td>5</td>\n",
              "      <td>0.925648</td>\n",
              "    </tr>\n",
              "  </tbody>\n",
              "</table>\n",
              "</div>"
            ],
            "text/plain": [
              "  Id  Predicted\n",
              "0  1   0.935499\n",
              "1  2   0.914760\n",
              "2  3   0.921248\n",
              "3  4   0.933341\n",
              "4  5   0.925648"
            ]
          },
          "metadata": {
            "tags": []
          },
          "execution_count": 18
        }
      ]
    },
    {
      "metadata": {
        "id": "QgElKkOt8KLD",
        "colab_type": "code",
        "colab": {}
      },
      "cell_type": "code",
      "source": [
        "# Save predictions to .csv file for upload to Kaggle\n",
        "sample_submission.to_csv(\"submission1.csv\", index=False)"
      ],
      "execution_count": 0,
      "outputs": []
    },
    {
      "metadata": {
        "id": "ekBNp0M08KLE",
        "colab_type": "code",
        "outputId": "345fc91d-822e-4b1f-f56e-a5bc2bfc6f92",
        "colab": {
          "base_uri": "https://localhost:8080/",
          "height": 51
        }
      },
      "cell_type": "code",
      "source": [
        "# Random Forest Regression Model\n",
        "\n",
        "print(\"performing grid search\")\n",
        "# Perform Grid-Search\n",
        "gsc = GridSearchCV(\n",
        "    estimator=RandomForestRegressor(),\n",
        "    param_grid={\n",
        "        'max_depth': range(7, 11),\n",
        "        'n_estimators': (100, 1000),\n",
        "    },\n",
        "    cv=5, scoring='neg_mean_squared_error', verbose=0, n_jobs=-1)\n",
        "print(\"grid result\")\n",
        "grid_result = gsc.fit(X_train, y_train)\n"
      ],
      "execution_count": 0,
      "outputs": [
        {
          "output_type": "stream",
          "text": [
            "performing grid search\n",
            "grid result\n"
          ],
          "name": "stdout"
        }
      ]
    },
    {
      "metadata": {
        "id": "MS5kqW3M8KLJ",
        "colab_type": "code",
        "outputId": "01a622ef-d5b5-4e34-b7fe-846f1a51e51b",
        "colab": {
          "base_uri": "https://localhost:8080/",
          "height": 34
        }
      },
      "cell_type": "code",
      "source": [
        "\n",
        "print(\"rfr\")\n",
        "rfr = RandomForestRegressor(max_depth=12, n_estimators=10000, random_state=False, verbose=False)\n"
      ],
      "execution_count": 0,
      "outputs": [
        {
          "output_type": "stream",
          "text": [
            "rfr\n"
          ],
          "name": "stdout"
        }
      ]
    },
    {
      "metadata": {
        "id": "CVJotpeNAp9B",
        "colab_type": "code",
        "colab": {}
      },
      "cell_type": "code",
      "source": [
        "rfr.fit(X_train, y_train)\n",
        "predictions = rfr.predict(X_test)"
      ],
      "execution_count": 0,
      "outputs": []
    },
    {
      "metadata": {
        "id": "abUudeYmFAPw",
        "colab_type": "code",
        "outputId": "08937b93-d0fc-48f8-b790-12d4fbf2f0f4",
        "colab": {
          "base_uri": "https://localhost:8080/",
          "height": 204
        }
      },
      "cell_type": "code",
      "source": [
        "rfr_submission = pd.DataFrame(data=predictions, columns=['Predicted'])\n",
        "rfr_submission.insert(0, \"Id\", range(1, 1 + X_test.shape[0]))\n",
        "rfr_submission['Id'] = sample_submission['Id'].astype(str)\n",
        "rfr_submission.head()"
      ],
      "execution_count": 0,
      "outputs": [
        {
          "output_type": "execute_result",
          "data": {
            "text/html": [
              "<div>\n",
              "<style scoped>\n",
              "    .dataframe tbody tr th:only-of-type {\n",
              "        vertical-align: middle;\n",
              "    }\n",
              "\n",
              "    .dataframe tbody tr th {\n",
              "        vertical-align: top;\n",
              "    }\n",
              "\n",
              "    .dataframe thead th {\n",
              "        text-align: right;\n",
              "    }\n",
              "</style>\n",
              "<table border=\"1\" class=\"dataframe\">\n",
              "  <thead>\n",
              "    <tr style=\"text-align: right;\">\n",
              "      <th></th>\n",
              "      <th>Id</th>\n",
              "      <th>Predicted</th>\n",
              "    </tr>\n",
              "  </thead>\n",
              "  <tbody>\n",
              "    <tr>\n",
              "      <th>0</th>\n",
              "      <td>1</td>\n",
              "      <td>0.931992</td>\n",
              "    </tr>\n",
              "    <tr>\n",
              "      <th>1</th>\n",
              "      <td>2</td>\n",
              "      <td>0.912136</td>\n",
              "    </tr>\n",
              "    <tr>\n",
              "      <th>2</th>\n",
              "      <td>3</td>\n",
              "      <td>0.917924</td>\n",
              "    </tr>\n",
              "    <tr>\n",
              "      <th>3</th>\n",
              "      <td>4</td>\n",
              "      <td>0.926848</td>\n",
              "    </tr>\n",
              "    <tr>\n",
              "      <th>4</th>\n",
              "      <td>5</td>\n",
              "      <td>0.927077</td>\n",
              "    </tr>\n",
              "  </tbody>\n",
              "</table>\n",
              "</div>"
            ],
            "text/plain": [
              "  Id  Predicted\n",
              "0  1   0.931992\n",
              "1  2   0.912136\n",
              "2  3   0.917924\n",
              "3  4   0.926848\n",
              "4  5   0.927077"
            ]
          },
          "metadata": {
            "tags": []
          },
          "execution_count": 50
        }
      ]
    },
    {
      "metadata": {
        "id": "E6zfapywFvue",
        "colab_type": "code",
        "colab": {}
      },
      "cell_type": "code",
      "source": [
        "rfr_submission.to_csv(\"rfr_submission.csv\", index=False)"
      ],
      "execution_count": 0,
      "outputs": []
    },
    {
      "metadata": {
        "id": "reqAjNuyF1eZ",
        "colab_type": "code",
        "outputId": "34b41bc2-5151-4108-f8b5-4350dc168518",
        "colab": {
          "base_uri": "https://localhost:8080/",
          "height": 34
        }
      },
      "cell_type": "code",
      "source": [
        "gsc.best_params_[\"max_depth\"]"
      ],
      "execution_count": 0,
      "outputs": [
        {
          "output_type": "execute_result",
          "data": {
            "text/plain": [
              "10"
            ]
          },
          "metadata": {
            "tags": []
          },
          "execution_count": 46
        }
      ]
    },
    {
      "metadata": {
        "id": "qB-6Dd5cY5vc",
        "colab_type": "code",
        "outputId": "d45d7be6-8702-4cfc-b1c1-7fa7708af0af",
        "colab": {
          "base_uri": "https://localhost:8080/",
          "height": 34
        }
      },
      "cell_type": "code",
      "source": [
        "gsc.best_params_[\"n_estimators\"]"
      ],
      "execution_count": 0,
      "outputs": [
        {
          "output_type": "execute_result",
          "data": {
            "text/plain": [
              "1000"
            ]
          },
          "metadata": {
            "tags": []
          },
          "execution_count": 47
        }
      ]
    },
    {
      "metadata": {
        "id": "sBDAEUXlZHCG",
        "colab_type": "code",
        "colab": {}
      },
      "cell_type": "code",
      "source": [
        ""
      ],
      "execution_count": 0,
      "outputs": []
    }
  ]
}